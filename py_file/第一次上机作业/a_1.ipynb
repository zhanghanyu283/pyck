{
 "cells": [
  {
   "cell_type": "code",
   "execution_count": null,
   "metadata": {},
   "outputs": [
    {
     "name": "stdout",
     "output_type": "stream",
     "text": [
      "三门课的总分为: 279\n",
      "三门课的平均分为: 93.0\n"
     ]
    }
   ],
   "source": [
    "# 提示用户输入三门课的成绩\n",
    "math_score = int(input(\"请输入高等数学的成绩: \"))\n",
    "english_score = int(input(\"请输入英语的成绩: \"))\n",
    "computer_score = int(input(\"请输入计算机的成绩: \"))\n",
    "\n",
    "# 计算总分\n",
    "total_score = math_score + english_score + computer_score\n",
    "\n",
    "# 计算平均分\n",
    "average_score = total_score / 3\n",
    "\n",
    "# 输出结果（修正 print 语句）\n",
    "print(f\"三门课的总分为: {total_score}\")  # 在字符串前加 f\n",
    "print(f\"三门课的平均分为: {average_score}\")  # 在字符串前加 f"
   ]
  },
  {
   "cell_type": "code",
   "execution_count": null,
   "id": "b4c56701",
   "metadata": {},
   "outputs": [
    {
     "data": {
      "text/plain": [
       "Dec\n"
      ]
     },
     "metadata": {},
     "output_type": "display_data"
    }
   ],
   "source": [
    "# 定义一个函数get_month_abbreviation，用于根据输入的月份数字获取对应的月份缩写\n",
    "def get_month_abbreviation(month):\n",
    "    # 创建一个列表，按顺序存储 1 - 12 月对应的月份缩写\n",
    "    # 列表索引从 0 开始，所以索引 0 对应 1 月，索引 1 对应 2 月，以此类推\n",
    "    month_abbreviations_list = [\n",
    "        \"Jan\", \"Feb\", \"Mar\", \"Apr\", \"May\", \"Jun\",\n",
    "        \"Jul\", \"Aug\", \"Sep\", \"Oct\", \"Nov\", \"Dec\"\n",
    "    ]\n",
    "    try:\n",
    "        # 尝试将传入的 month 参数转换为整数类型\n",
    "        # 因为用户输入可能是字符串形式，所以需要转换以便后续处理\n",
    "        month = int(month)\n",
    "        # 检查转换后的月份数字是否在 1 到 12 的有效范围内\n",
    "        if 1 <= month <= 12:\n",
    "            # 如果在有效范围内，从 month_abbreviations 列表中获取对应月份的缩写\n",
    "            # 由于列表索引从 0 开始，所以要使用 month - 1 来获取正确的元素\n",
    "            return month_abbreviations_list[month - 1]\n",
    "        else:\n",
    "            return \"输入的月份无效，请输入 1 到 12 之间的数字。\"\n",
    "    except ValueError:\n",
    "        return \"输入无效，请输入一个有效的整数。\"\n",
    "\n",
    "# 使用 input 函数获取用户输入的月份数字，并将其存储在 month_input 变量中\n",
    "# 提示用户输入一个 1 到 12 之间的月份数字\n",
    "month_input = input(\"请输入一个月份数字 (1 - 12): \")\n",
    "# 调用 get_month_abbreviation 函数，传入用户输入的月份数字\n",
    "# 并将函数返回的结果打印输出，展示给用户对应的月份缩写或错误提示\n",
    "print(get_month_abbreviation(month_input))"
   ]
  },
  {
   "cell_type": "code",
   "execution_count": null,
   "id": "fef79e9d",
   "metadata": {},
   "outputs": [
    {
     "data": {
      "text/plain": [
       "星期三\n"
      ]
     },
     "metadata": {},
     "output_type": "display_data"
    }
   ],
   "source": [
    "# 获取用户输入\n",
    "day_input = input(\"请输入一个 1 - 7 的数字: \")\n",
    "\n",
    "def get_chinese_weekday(day_number):\n",
    "    try:\n",
    "        # 将输入转换为整数\n",
    "        day_number = int(day_number)\n",
    "        # 定义一个列表，存储中文星期名称，索引 0 不用，从索引 1 开始对应星期一\n",
    "        weekday_list = [\"\", \"星期一\", \"星期二\", \"星期三\", \"星期四\", \"星期五\", \"星期六\", \"星期日\"]\n",
    "        # 检查输入的数字是否在 1 到 7 范围内\n",
    "        if 1 <= day_number <= 7:\n",
    "            # 返回对应索引的中文星期名称\n",
    "            return weekday_list[day_number]\n",
    "        else:\n",
    "            return \"输入无效，请输入 1 - 7 之间的数字。\"\n",
    "    except ValueError:\n",
    "        return \"输入无效，请输入一个有效的整数。\"\n",
    "\n",
    "\n",
    "# 调用函数并打印结果\n",
    "print(get_chinese_weekday(day_input))\n",
    "    "
   ]
  },
  {
   "cell_type": "code",
   "execution_count": null,
   "id": "3303b7e4",
   "metadata": {},
   "outputs": [
    {
     "data": {
      "text/plain": [
       "生日： 2005 10 30\n"
      ]
     },
     "metadata": {},
     "output_type": "display_data"
    }
   ],
   "source": [
    "# 获取用户输入的身份证号\n",
    "id_input = input(\"输入你的身份证号：\")\n",
    "# 检查输入的身份证号是否有效（简单判断长度是否为 18 位）\n",
    "if len(id_input) == 18:\n",
    "    # 提取出生日期信息\n",
    "    year = id_input[6:10]\n",
    "    month = id_input[10:12]\n",
    "    day = id_input[12:14]\n",
    "    # 输出出生日期\n",
    "    print(\"生日：\", year,month,day)\n",
    "else:\n",
    "    print(\"输入的身份证号无效，请输入 18 位身份证号。\")\n",
    "    "
   ]
  },
  {
   "cell_type": "code",
   "execution_count": null,
   "id": "57c179bc",
   "metadata": {},
   "outputs": [
    {
     "data": {
      "text/plain": [
       "生日： 2005 年 10 月 30 日\n"
      ]
     },
     "metadata": {},
     "output_type": "display_data"
    }
   ],
   "source": [
    "# 定义一个函数用于提取身份证号中的出生日期\n",
    "def get_birthday(id_num):\n",
    "    # 检查输入的身份证号是否有效（简单判断长度是否为 18 位）\n",
    "    if len(id_num) == 18:\n",
    "        # 提取出生日期信息\n",
    "        year = id_num[6:10]\n",
    "        month = id_num[10:12]\n",
    "        day = id_num[12:14]\n",
    "        # 返回出生日期信息\n",
    "        return (year, month, day)\n",
    "    else:\n",
    "        return None\n",
    "\n",
    "# 获取用户输入的身份证号\n",
    "id_input = input(\"输入你的身份证号：\")\n",
    "\n",
    "# 调用函数获取生日信息\n",
    "birthday = get_birthday(id_input)\n",
    "\n",
    "if birthday:\n",
    "    # 输出出生日期\n",
    "    print(\"生日：\", birthday[0], \"年\", birthday[1], \"月\", birthday[2], \"日\")\n",
    "else:\n",
    "    print(\"输入的身份证号无效，请输入 18 位身份证号。\")"
   ]
  }
 ],
 "metadata": {
  "kernelspec": {
   "display_name": "Python 3",
   "language": "python",
   "name": "python3"
  },
  "language_info": {
   "codemirror_mode": {
    "name": "ipython",
    "version": 3
   },
   "file_extension": ".py",
   "mimetype": "text/x-python",
   "name": "python",
   "nbconvert_exporter": "python",
   "pygments_lexer": "ipython3",
   "version": "3.13.3"
  }
 },
 "nbformat": 4,
 "nbformat_minor": 5
}
