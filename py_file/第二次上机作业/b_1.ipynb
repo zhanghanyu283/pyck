{
 "cells": [
  {
   "cell_type": "code",
   "execution_count": null,
   "id": "4791b911",
   "metadata": {},
   "outputs": [
    {
     "data": {
      "text/plain": [
       "对调后的数字： 5432\n"
      ]
     },
     "metadata": {},
     "output_type": "display_data"
    }
   ],
   "source": [
    "#．输入一个四位整数，将这个四位整数的千位和个数对调，百位和十位对调，使他们逆序输出。\n",
    "num = int(input(\"输入一个四位整数：\"))\n",
    "four = num // 1000\n",
    "sth = (num // 100) % 10\n",
    "two = (num // 10) % 10\n",
    "one = num % 10\n",
    "new_num = one*1000+two*100+sth*10+four\n",
    "print(\"对调的数字为：\",new_num)"
   ]
  },
  {
   "cell_type": "code",
   "execution_count": null,
   "id": "e3bc2c4a",
   "metadata": {},
   "outputs": [
    {
     "data": {
      "text/plain": [
       "S,c\n"
      ]
     },
     "metadata": {},
     "output_type": "display_data"
    }
   ],
   "source": [
    "#．输入一个小写字母c1和一个大写字母c2（c1和c2之间用空格分开），把c1转换成大写字母，c2转换成小写字母，然后输出（c1和c2之间用“，”分开）。\n",
    "c1,c2 = input(\"请输入一个小写字母和一个大写字母，用空格分开：\").split()  \n",
    "#在 Python 中，split() 是字符串对象的一个方法，将字符串按照指定分隔符分割成多个子字符串，并返回一个包含这些子字符串的列表。\n",
    "# 调用 upper() 方法，就像给小写字母穿上了一件“大写外套”，让它瞬间变身大写\n",
    "c1 = c1.upper()\n",
    "# 使用 lower() 方法，仿佛给大写字母施了个变小魔法，让它变成小写字母啦！\n",
    "c2 = c2.lower()\n",
    "# 用 f-string 把它们组合起来，中间用逗号分开，就像两个好朋友手牵手出现在屏幕上啦！\n",
    "print(f\"{c1},{c2}\")"
   ]
  }
 ],
 "metadata": {
  "language_info": {
   "name": "python"
  }
 },
 "nbformat": 4,
 "nbformat_minor": 5
}
