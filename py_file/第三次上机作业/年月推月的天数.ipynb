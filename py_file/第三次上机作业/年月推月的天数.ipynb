{
 "cells": [
  {
   "cell_type": "markdown",
   "id": "1e7d6adb",
   "metadata": {},
   "source": [
    "在 Python 中，// 和 % 是两个不同的运算符，用途如下\n",
    "\n",
    "1. //（整除运算符）\n",
    "功能：返回两个数相除后的商的整数部分（向下取整）。\n",
    "\n",
    "特点：\n",
    "结果会忽略小数部分，直接取整。\n",
    "如果操作数是整数，结果也是整数；如果操作数是浮点数，结果保留 .0。\n"
   ]
  },
  {
   "cell_type": "code",
   "execution_count": 1,
   "id": "2ebac554",
   "metadata": {},
   "outputs": [
    {
     "name": "stdout",
     "output_type": "stream",
     "text": [
      "3\n",
      "-4\n",
      "3.0\n"
     ]
    }
   ],
   "source": [
    "print(10 // 3)   # 输出 3（因为 10 ÷ 3 = 3.333，取整数部分 3）\n",
    "print(-10 // 3)  # 输出 -4（向下取整，-3.333 → -4）\n",
    "print(7.5 // 2)  # 输出 3.0（浮点数的整除）"
   ]
  },
  {
   "cell_type": "markdown",
   "id": "023a8316",
   "metadata": {},
   "source": [
    "2. %（取余运算符）\n",
    "功能：返回两个数相除后的余数。\n",
    "\n",
    "特点：\n",
    "余数的符号始终与除数一致。\n",
    "如果余数为零，说明可以整除。"
   ]
  },
  {
   "cell_type": "code",
   "execution_count": 2,
   "id": "f77ea001",
   "metadata": {},
   "outputs": [
    {
     "name": "stdout",
     "output_type": "stream",
     "text": [
      "1\n",
      "2\n",
      "1.5\n"
     ]
    }
   ],
   "source": [
    "print(10 % 3)    # 输出 1（因为 10 ÷ 3 = 3 余 1）\n",
    "print(-10 % 3)   # 输出 2（-10 ÷ 3 = -4 余 2）\n",
    "print(7.5 % 2)   # 输出 1.5（浮点数的取余）"
   ]
  },
  {
   "cell_type": "code",
   "execution_count": 9,
   "id": "b3c7630f",
   "metadata": {},
   "outputs": [
    {
     "name": "stdout",
     "output_type": "stream",
     "text": [
      "你输入的2025年10月，一共有31天\n"
     ]
    }
   ],
   "source": [
    "#例题，根据输入的年份和月份，输出该月有多少天。一年中，1、3、5、7、8、10、12月有31天，4、6、9、11月有30天，闰年的2月有29天，非闰年的2月有28天。\n",
    "a = int(input(\"输入年份：\"))\n",
    "b = int(input(\"输入月份：\"))\n",
    "if b < 1 or b > 12:\n",
    "    print (\"你他妈找茬是不是\")\n",
    "else:\n",
    "    if b in [1,3,5,7,8,10,12] :\n",
    "        day = 31\n",
    "    elif b in [4,6,9,11]:\n",
    "        day = 30\n",
    "    else:\n",
    "        if (a % 400 ==0 or (a % 4 == 0 and a % 100 != 0 )):\n",
    "            day = 29\n",
    "        else:\n",
    "            day = 30\n",
    "print (f\"你输入的{a}年{b}月，一共有{day}天\")"
   ]
  },
  {
   "cell_type": "markdown",
   "id": "c9e644e0",
   "metadata": {},
   "source": [
    "判断奇偶性：通过 % 2 的余数判断。"
   ]
  },
  {
   "cell_type": "code",
   "execution_count": 12,
   "id": "1a88e200",
   "metadata": {},
   "outputs": [
    {
     "name": "stdout",
     "output_type": "stream",
     "text": [
      "奇数\n"
     ]
    }
   ],
   "source": [
    "num = int (input(\"输入数字：\"))\n",
    "if num % 2 == 0:\n",
    "    print(\"偶数\")\n",
    "else:\n",
    "    print(\"奇数\")"
   ]
  }
 ],
 "metadata": {
  "kernelspec": {
   "display_name": "Python 3",
   "language": "python",
   "name": "python3"
  },
  "language_info": {
   "codemirror_mode": {
    "name": "ipython",
    "version": 3
   },
   "file_extension": ".py",
   "mimetype": "text/x-python",
   "name": "python",
   "nbconvert_exporter": "python",
   "pygments_lexer": "ipython3",
   "version": "3.13.3"
  }
 },
 "nbformat": 4,
 "nbformat_minor": 5
}
