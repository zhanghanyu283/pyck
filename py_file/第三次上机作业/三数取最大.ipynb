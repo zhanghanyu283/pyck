{
 "cells": [
  {
   "cell_type": "code",
   "execution_count": null,
   "id": "bb8fb26e",
   "metadata": {},
   "outputs": [
    {
     "name": "stdout",
     "output_type": "stream",
     "text": [
      "7.0\n"
     ]
    }
   ],
   "source": [
    "#从键盘输入3个数，输出其中最大数。(分数也能算的方法)\n",
    "a = float(input(\"输入第一个数:\"))\n",
    "b = float(input(\"输入第二个数:\"))\n",
    "c = float(input(\"输入第三个数:\"))\n",
    "\n",
    "max_num = max(a,b,c)\n",
    "\n",
    "print(max_num)"
   ]
  },
  {
   "cell_type": "code",
   "execution_count": null,
   "id": "b61311de",
   "metadata": {},
   "outputs": [],
   "source": [
    "#从键盘输入3个数，输出其中最大数。(整数版本)\n",
    "a = input(\"输入第一个数:\")\n",
    "b = input(\"输入第二个数:\")\n",
    "c = input(\"输入第三个数:\")\n",
    "\n",
    "max_num = max(a,b,c)\n",
    "\n",
    "print(max_num)"
   ]
  }
 ],
 "metadata": {
  "kernelspec": {
   "display_name": "Python 3",
   "language": "python",
   "name": "python3"
  },
  "language_info": {
   "codemirror_mode": {
    "name": "ipython",
    "version": 3
   },
   "file_extension": ".py",
   "mimetype": "text/x-python",
   "name": "python",
   "nbconvert_exporter": "python",
   "pygments_lexer": "ipython3",
   "version": "3.13.3"
  }
 },
 "nbformat": 4,
 "nbformat_minor": 5
}
