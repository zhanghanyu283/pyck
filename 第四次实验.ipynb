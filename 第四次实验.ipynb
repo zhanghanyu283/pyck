{
 "cells": [
  {
   "cell_type": "markdown",
   "id": "340316d3",
   "metadata": {},
   "source": [
    "输出1000-3000所有偶数的和及所有是3的倍数的和。"
   ]
  },
  {
   "cell_type": "code",
   "execution_count": null,
   "id": "e362e794",
   "metadata": {},
   "outputs": [
    {
     "name": "stdout",
     "output_type": "stream",
     "text": [
      "1000到3000之间所有偶数的和为: 2002000\n",
      "1000到3000之间所有是3的倍数的和为: 1334667\n"
     ]
    }
   ],
   "source": [
    "even_sum = sum([i for i in range(1000, 3001) if i % 2 == 0])\n",
    "multle_of_3_sum = sum([i for i in range(1000, 3001) if i % 3 == 0])\n",
    "print(\"1000到3000之间所有偶数:\", even_sum)\n",
    "print(\"1000到3000之间所有是3的倍数的和:\", multle_of_3_sum)"
   ]
  },
  {
   "cell_type": "markdown",
   "id": "40d1fe23",
   "metadata": {},
   "source": [
    "小于1000，素数"
   ]
  },
  {
   "cell_type": "code",
   "execution_count": 2,
   "id": "4e352e56",
   "metadata": {},
   "outputs": [
    {
     "name": "stdout",
     "output_type": "stream",
     "text": [
      "小于1000素数: [2, 3, 5, 7, 11, 13, 17, 19, 23, 29, 31, 37, 41, 43, 47, 53, 59, 61, 67, 71, 73, 79, 83, 89, 97, 101, 103, 107, 109, 113, 127, 131, 137, 139, 149, 151, 157, 163, 167, 173, 179, 181, 191, 193, 197, 199, 211, 223, 227, 229, 233, 239, 241, 251, 257, 263, 269, 271, 277, 281, 283, 293, 307, 311, 313, 317, 331, 337, 347, 349, 353, 359, 367, 373, 379, 383, 389, 397, 401, 409, 419, 421, 431, 433, 439, 443, 449, 457, 461, 463, 467, 479, 487, 491, 499, 503, 509, 521, 523, 541, 547, 557, 563, 569, 571, 577, 587, 593, 599, 601, 607, 613, 617, 619, 631, 641, 643, 647, 653, 659, 661, 673, 677, 683, 691, 701, 709, 719, 727, 733, 739, 743, 751, 757, 761, 769, 773, 787, 797, 809, 811, 821, 823, 827, 829, 839, 853, 857, 859, 863, 877, 881, 883, 887, 907, 911, 919, 929, 937, 941, 947, 953, 967, 971, 977, 983, 991, 997]\n"
     ]
    }
   ],
   "source": [
    "def is_prime(n):\n",
    "    if n <= 1:\n",
    "        return False\n",
    "    elif n <= 3:\n",
    "        return True\n",
    "    if n % 2 == 0:\n",
    "        return False\n",
    "    for i in range(3, int(n**0.5) + 1, 2):\n",
    "        if n % i == 0:\n",
    "            return False\n",
    "    return True\n",
    "\n",
    "primes = [i for i in range(2, 1000) if is_prime(i)]\n",
    "print(\"小于1000素数:\", primes)"
   ]
  }
 ],
 "metadata": {
  "kernelspec": {
   "display_name": "Python 3",
   "language": "python",
   "name": "python3"
  },
  "language_info": {
   "codemirror_mode": {
    "name": "ipython",
    "version": 3
   },
   "file_extension": ".py",
   "mimetype": "text/x-python",
   "name": "python",
   "nbconvert_exporter": "python",
   "pygments_lexer": "ipython3",
   "version": "3.13.3"
  }
 },
 "nbformat": 4,
 "nbformat_minor": 5
}
